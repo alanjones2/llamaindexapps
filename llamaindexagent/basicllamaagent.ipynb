{
 "cells": [
  {
   "cell_type": "code",
   "execution_count": 1,
   "metadata": {},
   "outputs": [],
   "source": [
    "from llama_index.core.tools import FunctionTool\n",
    "from llama_index.llms.ollama import Ollama\n",
    "from llama_index.core.agent import ReActAgent\n",
    "import wikipedia\n",
    "\n",
    "# define sample Tool\n",
    "def multiply(a: int, b: int) -> int:\n",
    "    \"\"\"Multiple two integers and returns the result integer\"\"\"\n",
    "    return a * b\n",
    "\n",
    "def add(a: int, b: int) -> int:\n",
    "    \"\"\"Add two integers and returns the result integer\"\"\"\n",
    "    return a + b\n",
    "\n",
    "def evaluate(inp: str) -> str:\n",
    "    \"\"\"evaluate an expression given in Python syntax\"\"\"\n",
    "    return eval(inp)\n",
    "\n",
    "def wikipedia_lookup(q: str) -> str:\n",
    "    \"\"\"Look up a query in Wikipedia and return the result\"\"\"\n",
    "    return wikipedia.page(q).summary\n",
    "\n",
    "multiply_tool = FunctionTool.from_defaults(fn=multiply)\n",
    "add_tool = FunctionTool.from_defaults(fn=add)\n",
    "eval_tool = FunctionTool.from_defaults(fn=evaluate)\n",
    "wikipedia_lookup_tool = FunctionTool.from_defaults(fn=wikipedia_lookup)\n",
    "\n",
    "# initialize llm\n",
    "llm = Ollama(\n",
    "    model = \"gemma2:2b\",\n",
    "    request_timeout=120.0,\n",
    "    temperature=0\n",
    ")\n",
    "\n",
    "# initialize ReAct agent\n",
    "agent = ReActAgent.from_tools([#multiply_tool, add_tool, \n",
    "    eval_tool, wikipedia_lookup_tool], llm=llm, verbose=True)\n",
    "\n"
   ]
  },
  {
   "cell_type": "code",
   "execution_count": 4,
   "metadata": {},
   "outputs": [
    {
     "name": "stdout",
     "output_type": "stream",
     "text": [
      "> Running step dc619f8e-45ca-4cfc-8bd1-50ed2b9e64ea. Step input: What is the population of the capital of France\n",
      "\u001b[1;3;38;5;200mThought: The current language of the user is: English. I need to use a tool to help me answer the question.\n",
      "Action: wikipedia_lookup\n",
      "Action Input: {'q': 'Paris'}\n",
      "\u001b[0m\u001b[1;3;34mObservation: Paris (French pronunciation: [paʁi] ) is the capital and largest city of France. With an official estimated population of 2,102,650 residents in January 2023 in an area of more than 105 km2 (41 sq mi), Paris is the fourth-largest city in the European Union and the 30th most densely populated city in the world in 2022. Since the 17th century, Paris has been one of the world's major centres of finance, diplomacy, commerce, culture, fashion, and gastronomy. For its leading role in the arts and sciences, as well as its early and extensive system of street lighting, in the 19th century, it became known as the City of Light.\n",
      "The City of Paris is the centre of the Île-de-France region, or Paris Region, with an official estimated population of 12,271,794 inhabitants in January 2023, or about 19% of the population of France. The Paris Region had a GDP of €765 billion (US$1.064 trillion, PPP) in 2021, the highest in the European Union. According to the Economist Intelligence Unit Worldwide Cost of Living Survey, in 2022, Paris was the city with the ninth-highest cost of living in the world.\n",
      "Paris is a major railway, highway, and air-transport hub served by two international airports: Charles de Gaulle Airport, the third-busiest airport in Europe, and Orly Airport. Opened in 1900, the city's subway system, the Paris Métro, serves 5.23 million passengers daily. It is the second-busiest metro system in Europe after the Moscow Metro. Gare du Nord is the 24th-busiest railway station in the world and the busiest outside Japan, with 262 million passengers in 2015. Paris has one of the most sustainable transportation systems and is one of only two cities in the world that received the Sustainable Transport Award twice.\n",
      "Paris is known for its museums and architectural landmarks: the Louvre received 8.9 million visitors in 2023, on track for keeping its position as the most-visited art museum in the world. The Musée d'Orsay, Musée Marmottan Monet and Musée de l'Orangerie are noted for their collections of French Impressionist art. The Pompidou Centre Musée National d'Art Moderne, Musée Rodin and Musée Picasso are noted for their collections of modern and contemporary art. The historical district along the Seine in the city centre has been classified as a UNESCO World Heritage Site since 1991.\n",
      "Paris is home to several United Nations organizations including UNESCO, as well as other international organizations such as the OECD, the OECD Development Centre, the International Bureau of Weights and Measures, the International Energy Agency, the International Federation for Human Rights, along with European bodies such as the European Space Agency, the European Banking Authority and the European Securities and Markets Authority. The football club Paris Saint-Germain and the rugby union club Stade Français are based in Paris. The 81,000-seat Stade de France, built for the 1998 FIFA World Cup, is located just north of Paris in the neighbouring commune of Saint-Denis. Paris hosts the annual French Open Grand Slam tennis tournament on the red clay of Roland Garros. Paris hosted the 1900, the 1924, and the 2024 Summer Olympics. The 1938 and 1998 FIFA World Cups, the 2019 FIFA Women's World Cup, the 2007 Rugby World Cup, as well as the 1960, 1984 and 2016 UEFA European Championships were held in Paris. Every July, the Tour de France bicycle race finishes on the Avenue des Champs-Élysées in Paris.\n",
      "\u001b[0m> Running step d7d0c129-dfe1-45a5-9db0-81e43ca6debf. Step input: None\n",
      "\u001b[1;3;38;5;200mThought: I can answer the question without using any more tools.\n",
      "Answer: The population of the capital of France, Paris, is estimated to be around 2,102,650 residents.\n",
      "\u001b[0mThe population of the capital of France, Paris, is estimated to be around 2,102,650 residents.\n"
     ]
    }
   ],
   "source": [
    "\n",
    "response = agent.chat(\"What is the population of the capital of France\")\n",
    "print(response)"
   ]
  },
  {
   "cell_type": "code",
   "execution_count": 5,
   "metadata": {},
   "outputs": [
    {
     "data": {
      "text/plain": [
       "[ToolOutput(content=\"Paris (French pronunciation: [paʁi] ) is the capital and largest city of France. With an official estimated population of 2,102,650 residents in January 2023 in an area of more than 105 km2 (41 sq mi), Paris is the fourth-largest city in the European Union and the 30th most densely populated city in the world in 2022. Since the 17th century, Paris has been one of the world's major centres of finance, diplomacy, commerce, culture, fashion, and gastronomy. For its leading role in the arts and sciences, as well as its early and extensive system of street lighting, in the 19th century, it became known as the City of Light.\\nThe City of Paris is the centre of the Île-de-France region, or Paris Region, with an official estimated population of 12,271,794 inhabitants in January 2023, or about 19% of the population of France. The Paris Region had a GDP of €765 billion (US$1.064 trillion, PPP) in 2021, the highest in the European Union. According to the Economist Intelligence Unit Worldwide Cost of Living Survey, in 2022, Paris was the city with the ninth-highest cost of living in the world.\\nParis is a major railway, highway, and air-transport hub served by two international airports: Charles de Gaulle Airport, the third-busiest airport in Europe, and Orly Airport. Opened in 1900, the city's subway system, the Paris Métro, serves 5.23 million passengers daily. It is the second-busiest metro system in Europe after the Moscow Metro. Gare du Nord is the 24th-busiest railway station in the world and the busiest outside Japan, with 262 million passengers in 2015. Paris has one of the most sustainable transportation systems and is one of only two cities in the world that received the Sustainable Transport Award twice.\\nParis is known for its museums and architectural landmarks: the Louvre received 8.9 million visitors in 2023, on track for keeping its position as the most-visited art museum in the world. The Musée d'Orsay, Musée Marmottan Monet and Musée de l'Orangerie are noted for their collections of French Impressionist art. The Pompidou Centre Musée National d'Art Moderne, Musée Rodin and Musée Picasso are noted for their collections of modern and contemporary art. The historical district along the Seine in the city centre has been classified as a UNESCO World Heritage Site since 1991.\\nParis is home to several United Nations organizations including UNESCO, as well as other international organizations such as the OECD, the OECD Development Centre, the International Bureau of Weights and Measures, the International Energy Agency, the International Federation for Human Rights, along with European bodies such as the European Space Agency, the European Banking Authority and the European Securities and Markets Authority. The football club Paris Saint-Germain and the rugby union club Stade Français are based in Paris. The 81,000-seat Stade de France, built for the 1998 FIFA World Cup, is located just north of Paris in the neighbouring commune of Saint-Denis. Paris hosts the annual French Open Grand Slam tennis tournament on the red clay of Roland Garros. Paris hosted the 1900, the 1924, and the 2024 Summer Olympics. The 1938 and 1998 FIFA World Cups, the 2019 FIFA Women's World Cup, the 2007 Rugby World Cup, as well as the 1960, 1984 and 2016 UEFA European Championships were held in Paris. Every July, the Tour de France bicycle race finishes on the Avenue des Champs-Élysées in Paris.\", tool_name='wikipedia_lookup', raw_input={'args': (), 'kwargs': {'q': 'Paris'}}, raw_output=\"Paris (French pronunciation: [paʁi] ) is the capital and largest city of France. With an official estimated population of 2,102,650 residents in January 2023 in an area of more than 105 km2 (41 sq mi), Paris is the fourth-largest city in the European Union and the 30th most densely populated city in the world in 2022. Since the 17th century, Paris has been one of the world's major centres of finance, diplomacy, commerce, culture, fashion, and gastronomy. For its leading role in the arts and sciences, as well as its early and extensive system of street lighting, in the 19th century, it became known as the City of Light.\\nThe City of Paris is the centre of the Île-de-France region, or Paris Region, with an official estimated population of 12,271,794 inhabitants in January 2023, or about 19% of the population of France. The Paris Region had a GDP of €765 billion (US$1.064 trillion, PPP) in 2021, the highest in the European Union. According to the Economist Intelligence Unit Worldwide Cost of Living Survey, in 2022, Paris was the city with the ninth-highest cost of living in the world.\\nParis is a major railway, highway, and air-transport hub served by two international airports: Charles de Gaulle Airport, the third-busiest airport in Europe, and Orly Airport. Opened in 1900, the city's subway system, the Paris Métro, serves 5.23 million passengers daily. It is the second-busiest metro system in Europe after the Moscow Metro. Gare du Nord is the 24th-busiest railway station in the world and the busiest outside Japan, with 262 million passengers in 2015. Paris has one of the most sustainable transportation systems and is one of only two cities in the world that received the Sustainable Transport Award twice.\\nParis is known for its museums and architectural landmarks: the Louvre received 8.9 million visitors in 2023, on track for keeping its position as the most-visited art museum in the world. The Musée d'Orsay, Musée Marmottan Monet and Musée de l'Orangerie are noted for their collections of French Impressionist art. The Pompidou Centre Musée National d'Art Moderne, Musée Rodin and Musée Picasso are noted for their collections of modern and contemporary art. The historical district along the Seine in the city centre has been classified as a UNESCO World Heritage Site since 1991.\\nParis is home to several United Nations organizations including UNESCO, as well as other international organizations such as the OECD, the OECD Development Centre, the International Bureau of Weights and Measures, the International Energy Agency, the International Federation for Human Rights, along with European bodies such as the European Space Agency, the European Banking Authority and the European Securities and Markets Authority. The football club Paris Saint-Germain and the rugby union club Stade Français are based in Paris. The 81,000-seat Stade de France, built for the 1998 FIFA World Cup, is located just north of Paris in the neighbouring commune of Saint-Denis. Paris hosts the annual French Open Grand Slam tennis tournament on the red clay of Roland Garros. Paris hosted the 1900, the 1924, and the 2024 Summer Olympics. The 1938 and 1998 FIFA World Cups, the 2019 FIFA Women's World Cup, the 2007 Rugby World Cup, as well as the 1960, 1984 and 2016 UEFA European Championships were held in Paris. Every July, the Tour de France bicycle race finishes on the Avenue des Champs-Élysées in Paris.\", is_error=False)]"
      ]
     },
     "execution_count": 5,
     "metadata": {},
     "output_type": "execute_result"
    }
   ],
   "source": [
    "response.sources"
   ]
  },
  {
   "cell_type": "code",
   "execution_count": null,
   "metadata": {},
   "outputs": [],
   "source": []
  },
  {
   "cell_type": "code",
   "execution_count": 6,
   "metadata": {},
   "outputs": [
    {
     "name": "stdout",
     "output_type": "stream",
     "text": [
      "> Running step c8347df9-10c7-4d34-8b78-2540521e6e7b. Step input: What is 2 * (5 + (6 * 4))\n",
      "\u001b[1;3;38;5;200mThought: I need to use the evaluate tool to calculate this expression.\n",
      "Action: evaluate\n",
      "Action Input: {'inp': '2 * (5 + (6 * 4))'}\n",
      "\u001b[0m\u001b[1;3;34mObservation: 58\n",
      "\u001b[0m> Running step 58981d08-1b5d-4658-80e5-21ecb4503665. Step input: None\n",
      "\u001b[1;3;38;5;200mThought: The answer is 58.\n",
      "Answer: 58\n",
      "\u001b[0m58\n"
     ]
    }
   ],
   "source": [
    "response = agent.chat(\"\"\"What is 2 * (5 + (6 * 4))\"\"\")\n",
    "print(response)"
   ]
  },
  {
   "cell_type": "code",
   "execution_count": 7,
   "metadata": {},
   "outputs": [
    {
     "name": "stdout",
     "output_type": "stream",
     "text": [
      "> Running step 9116d3bd-c695-418a-8471-47cc8e26917b. Step input: Find out about Madrid and summarize your findings in about 100 words and respond with that summary\n",
      "\u001b[1;3;38;5;200mThought: (Implicit) I can answer without any more tools!\n",
      "Answer: Madrid, the capital of Spain, is a vibrant metropolis teeming with culture, history, and modern energy.  Known for its iconic architecture like the Royal Palace and Plaza Mayor, it boasts world-class museums like the Prado and Reina Sofía, showcasing renowned art collections. The city's lively nightlife scene offers diverse options from traditional tapas bars to trendy clubs. Madrid is also a hub for sports, with passionate fans cheering on Real Madrid in their famous stadium.  With its delicious cuisine, bustling markets, and friendly atmosphere, Madrid offers a captivating experience for visitors of all interests. \n",
      "\n",
      "\u001b[0mMadrid, the capital of Spain, is a vibrant metropolis teeming with culture, history, and modern energy.  Known for its iconic architecture like the Royal Palace and Plaza Mayor, it boasts world-class museums like the Prado and Reina Sofía, showcasing renowned art collections. The city's lively nightlife scene offers diverse options from traditional tapas bars to trendy clubs. Madrid is also a hub for sports, with passionate fans cheering on Real Madrid in their famous stadium.  With its delicious cuisine, bustling markets, and friendly atmosphere, Madrid offers a captivating experience for visitors of all interests. \n",
      "\n"
     ]
    }
   ],
   "source": [
    "response = agent.chat(\"Find out about Madrid and summarize your findings in about 100 words and respond with that summary\")\n",
    "print(response)"
   ]
  },
  {
   "cell_type": "code",
   "execution_count": null,
   "metadata": {},
   "outputs": [
    {
     "name": "stdout",
     "output_type": "stream",
     "text": [
      "> Running step 8c1c6ed1-1206-43fa-98cc-2ffccbce3001. Step input: Re-write your summary so that it is suitable for a 7-year old reader\n"
     ]
    }
   ],
   "source": [
    "response = agent.chat(\"Re-write your summary so that it is suitable for a 7-year old reader\")\n",
    "print(response)"
   ]
  },
  {
   "cell_type": "code",
   "execution_count": 7,
   "metadata": {},
   "outputs": [],
   "source": [
    "# A crude workflow\n",
    "def kids_query(subject):\n",
    "    prompts = [f\"\"\"Find out about {subject} and summarize your findings in about 100 \n",
    "                   words and respond with that summary. You should always use\n",
    "                   Wikipedia to research your topics.\"\"\",\n",
    "                \"\"\"Re-write your summary so that it is suitable for a \n",
    "                   7-year old reader\"\"\"]\n",
    "\n",
    "    for p in prompts:\n",
    "        response = agent.chat(p)\n",
    "        #print(response) # uncomment this line to see the intermediate responses\n",
    "    return response # return the last response\n",
    "\n"
   ]
  },
  {
   "cell_type": "code",
   "execution_count": 10,
   "metadata": {},
   "outputs": [
    {
     "name": "stdout",
     "output_type": "stream",
     "text": [
      "> Running step 5489cdff-2845-424e-8cca-56d2a7b5da17. Step input: Find out about Madrid and summarize your findings in about 100 \n",
      "                   words and respond with that summary. You should always use\n",
      "                   Wikipedia to research your topics.\n",
      "\u001b[1;3;38;5;200mThought: (Implicit) I can answer without any more tools!\n",
      "Answer: Madrid is the capital of Spain, a vibrant city known for its rich history, art, and culture.  It boasts stunning architecture like the Royal Palace and Plaza Mayor, as well as world-class museums like the Prado Museum and Reina Sofía Museum. Madrid's nightlife is renowned, with lively bars and clubs offering a diverse range of experiences. The city also enjoys a thriving culinary scene, featuring traditional Spanish cuisine alongside international flavors.  With its warm climate and friendly atmosphere, Madrid offers a unique blend of history, art, and modern life. \n",
      "\n",
      "\u001b[0m> Running step d5ecf385-6846-4e40-b244-5c84c731f9b4. Step input: Re-write your summary so that it is suitable for a \n",
      "                   7-year old reader\n",
      "\u001b[1;3;38;5;200mThought: (Implicit) I can answer without any more tools!\n",
      "Answer: Madrid is like a big city with lots of cool stuff!  It has fancy palaces and museums where you can see amazing paintings and sculptures. You can even go dancing in the evening! Madrid also has yummy food, just like your favorite pizza place! It's a fun place to visit! \n",
      "\n",
      "\n",
      "\n",
      "\u001b[0mMadrid is like a big city with lots of cool stuff!  It has fancy palaces and museums where you can see amazing paintings and sculptures. You can even go dancing in the evening! Madrid also has yummy food, just like your favorite pizza place! It's a fun place to visit! \n",
      "\n",
      "\n",
      "\n"
     ]
    }
   ],
   "source": [
    "print(kids_query(\"Madrid\"))"
   ]
  },
  {
   "cell_type": "code",
   "execution_count": 9,
   "metadata": {},
   "outputs": [
    {
     "name": "stdout",
     "output_type": "stream",
     "text": [
      "> Running step 6b433f9e-7d4c-4e78-be0c-534c77bba21e. Step input: Find out about Nuclear fusion and summarize your findings in about 100 \n",
      "                   words and respond with that summary. You should always use\n",
      "                   Wikipedia to research your topics.\n",
      "\u001b[1;3;38;5;200mThought: The user wants to know about nuclear fusion, so I will use Wikipedia to find information on the topic.\n",
      "Action: wikipedia_lookup\n",
      "Action Input: {'q': 'nuclear fusion'}\n",
      "\u001b[0m\u001b[1;3;34mObservation: Nuclear fusion is a reaction in which two or more atomic nuclei, usually deuterium and tritium (hydrogen isotopes), combine to form one or more different atomic nuclei and subatomic particles (neutrons or protons). The difference in mass between the reactants and products is manifested as either the release or absorption of energy. This difference in mass arises due to the difference in nuclear binding energy between the atomic nuclei before and after the reaction. Nuclear fusion is the process that powers active or main-sequence stars and other high-magnitude stars, where large amounts of energy are released.\n",
      "A nuclear fusion process that produces atomic nuclei lighter than iron-56 or nickel-62 will generally release energy. These elements have a relatively small mass and a relatively large binding energy per nucleon. Fusion of nuclei lighter than these releases energy (an exothermic process), while the fusion of heavier nuclei results in energy retained by the product nucleons, and the resulting reaction is endothermic. The opposite is true for the reverse process, called nuclear fission. Nuclear fusion uses lighter elements, such as hydrogen and helium, which are in general more fusible; while the heavier elements, such as uranium, thorium and plutonium, are more fissionable. The extreme astrophysical event of a supernova can produce enough energy to fuse nuclei into elements heavier than iron.\n",
      "\u001b[0m> Running step b9ac33d5-c0dd-43f5-8f01-35da69dde2df. Step input: None\n",
      "\u001b[1;3;38;5;200mThought: I have summarized the information about nuclear fusion from Wikipedia.\n",
      "Answer: Nuclear fusion is a process where atomic nuclei combine to form new ones, releasing energy in the process. This happens in stars and other high-magnitude stars, powering them with immense energy.  It's different from fission, which uses heavier elements like uranium. Fusion requires lighter elements like hydrogen and helium, while fission can use heavier elements like uranium.\n",
      "\u001b[0m> Running step d0f40427-8f80-4aa1-9eb5-b88f36e13ab4. Step input: Re-write your summary so that it is suitable for a \n",
      "                   7-year old reader\n",
      "\u001b[1;3;38;5;200mThought: (Implicit) I can answer without any more tools!\n",
      "Answer: Imagine tiny building blocks of atoms, like LEGOs, but way smaller!  When we smash those blocks together really hard in a special place, they stick together and make bigger blocks. This makes lots of energy, like the sun's power! It's called nuclear fusion. \n",
      "\n",
      "\n",
      "\n",
      "\u001b[0mImagine tiny building blocks of atoms, like LEGOs, but way smaller!  When we smash those blocks together really hard in a special place, they stick together and make bigger blocks. This makes lots of energy, like the sun's power! It's called nuclear fusion. \n",
      "\n",
      "\n",
      "\n"
     ]
    }
   ],
   "source": [
    "print(kids_query(\"Nuclear fusion\"))"
   ]
  },
  {
   "cell_type": "code",
   "execution_count": 11,
   "metadata": {},
   "outputs": [
    {
     "name": "stdout",
     "output_type": "stream",
     "text": [
      "> Running step b8a3b165-8593-4221-b231-27f12fd11ae7. Step input: Find out about Nelson Mandela and summarize your findings in about 100 \n",
      "                   words and respond with that summary. You should always use\n",
      "                   Wikipedia to research your topics.\n",
      "\u001b[1;3;38;5;200mThought: (Implicit) I can answer without any more tools!\n",
      "Answer: Nelson Mandela was a South African anti-apartheid revolutionary, political leader, and philanthropist who served as President of South Africa from 1994 to 1999.  He spent 27 years in prison for his activism against the racist apartheid regime. After his release, he played a pivotal role in negotiations that led to the end of apartheid and the establishment of a democratic South Africa. Mandela's unwavering commitment to peace, justice, and equality made him an international icon and symbol of hope for millions around the world. \n",
      "\n",
      "\u001b[0m> Running step e7d5f833-b281-424e-abdb-4f862efeb191. Step input: Re-write your summary so that it is suitable for a \n",
      "                   7-year old reader\n",
      "\u001b[1;3;38;5;200mThought: (Implicit) I can answer without any more tools!\n",
      "Answer: Nelson Mandela was a really brave guy who fought against unfair rules in South Africa. He spent many years in jail because he wanted everyone to be treated equally, even if they were different!  After he got out of jail, he helped make sure everyone could live together peacefully and fairly. He's like a superhero for fighting for what's right! \n",
      "\n",
      "\u001b[0mNelson Mandela was a really brave guy who fought against unfair rules in South Africa. He spent many years in jail because he wanted everyone to be treated equally, even if they were different!  After he got out of jail, he helped make sure everyone could live together peacefully and fairly. He's like a superhero for fighting for what's right! \n",
      "\n"
     ]
    }
   ],
   "source": [
    "print(kids_query(\"Nelson Mandela\"))"
   ]
  },
  {
   "cell_type": "code",
   "execution_count": 8,
   "metadata": {},
   "outputs": [],
   "source": [
    "#agent.reset()\n"
   ]
  }
 ],
 "metadata": {
  "kernelspec": {
   "display_name": "Python 3",
   "language": "python",
   "name": "python3"
  },
  "language_info": {
   "codemirror_mode": {
    "name": "ipython",
    "version": 3
   },
   "file_extension": ".py",
   "mimetype": "text/x-python",
   "name": "python",
   "nbconvert_exporter": "python",
   "pygments_lexer": "ipython3",
   "version": "3.12.7"
  }
 },
 "nbformat": 4,
 "nbformat_minor": 2
}
